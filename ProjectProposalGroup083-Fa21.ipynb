{
 "cells": [
  {
   "cell_type": "markdown",
   "metadata": {},
   "source": [
    "# COGS 108 - Final Project Proposal"
   ]
  },
  {
   "cell_type": "markdown",
   "metadata": {},
   "source": [
    "# Names\n",
    "\n",
    "- Matilda Michel\n",
    "- Athena Le\n",
    "- Athina Obfenda\n",
    "- Thais Chen"
   ]
  },
  {
   "cell_type": "markdown",
   "metadata": {},
   "source": [
    "# Research Question"
   ]
  },
  {
   "cell_type": "markdown",
   "metadata": {},
   "source": [
    "Is there a significant relationship between a countries’ various societal factors, specifically GDP, income, and healthcare status, and happiness scores?"
   ]
  },
  {
   "cell_type": "markdown",
   "metadata": {},
   "source": [
    "## Background and Prior Work"
   ]
  },
  {
   "cell_type": "markdown",
   "metadata": {},
   "source": [
    "https://www.who.int/health-topics/universal-health-coverage#tab=tab_1\n",
    "- About half the world’s population do not receive health services they need, which leads to over 100 million people being trapped into poverty due to out-of-pocket expenses to cover their medical charges. The main goal of universal health care coverage is to improve people’s quality of life, yet it isn’t as easy . The outcome of health care depends on the availability and accessibility of people-centered integrated care. The UHC (universal health coverage) is managed by how they are funded and managed, this varies throughout different counties due to their GDP. \n",
    "\n",
    "https://ourworldindata.org/happiness-and-life-satisfaction \n",
    "- Throughout the world, countries that reported to be more satisfied and happy with their life often come from richer and healthier counties. This is in connection to countries where their GDP per capita is higher than the world average. Countries such as Indonesia, the United States, Australia, and the United Kingdom have a stronger correlation between their income and life satisfaction. There is an upwards slope in data where wealthier countries are happier than poorer countries, along with richer people tend to be happier than poorer people within the same countries. "
   ]
  },
  {
   "cell_type": "markdown",
   "metadata": {},
   "source": [
    "# Hypothesis\n"
   ]
  },
  {
   "cell_type": "markdown",
   "metadata": {},
   "source": [
    "We hypothesize that there is a significant relationship between happiness score and countries’ GDP which may also influence their availability with healthcare. \n",
    "\n",
    "Based on the articles we read for the background research, it seems like countries in which the GDP per capita is higher than the global average their happiness scores tend to be higher. Since a higher GDP per capita is also typically associated with higher average incomes and better healthcare, we believe that there may end up being a relationship between societal factors such as a country’s GDP, income, and/or accessibility to healthcare and its happiness score."
   ]
  },
  {
   "cell_type": "markdown",
   "metadata": {},
   "source": [
    "# Data"
   ]
  },
  {
   "cell_type": "markdown",
   "metadata": {},
   "source": [
    "- Our ideal dataset would include variables as a large enough pool of countries to compare, with observations being each country’s average values for societal factors (e.g. income, cost of living, etc.) and each country’s happiness score, so we could compare each societal factor with the happiness score for each country to see if there is any significant relationship (positive or negative correlation) between that societal factor and the country’s happiness score\n",
    "- This data would be collected through looking at the data through each country’s respective organizations that collect this information\n",
    "- It would be most convenient for the data to be stored in a .cvs file so we could easily sort through it and manipulate/use it for answering our question\n",
    "- We have three datasets we were thinking of pulling from currently, one to provide us with data on happiness scores, as second one to provide us the average values of societal factors (e.g. income, cost of living, etc.) for multiple countries, and the third dataset to give us health statistics for multiple countries which we were thinking of using for health societal factors (e.g. life expectancy, presence of universal health care etc.) as another factor to compare with the happiness scores. All datasets have data from 2020 just to keep the timeline consistent so the comparison will be more accurate."
   ]
  },
  {
   "cell_type": "markdown",
   "metadata": {},
   "source": [
    "# Ethics & Privacy"
   ]
  },
  {
   "cell_type": "markdown",
   "metadata": {},
   "source": [
    "- We do not believe there will be any issues regarding the privacy of any individuals. Other than their country of residence, in the happiness score dataset we will be using, there was no demographic or personal information recorded about the responders and the results were all averaged into single observations for each country. In addition, the data for both the healthcare and happiness score datasets were collected by respected, well known organizations (Gallup and WHO). \n",
    "- We believe the results of this project could prove to be very beneficial to the debate regarding the justification and efficacy of universal health care coverage and how financial situations can affect happiness. One potential worry, however, could be overemphasizing any correlation found between these factors and over-simplifying how policies and various societal conditions affect happiness or the actual well-being of citizens."
   ]
  },
  {
   "cell_type": "markdown",
   "metadata": {},
   "source": [
    "# Team Expectations "
   ]
  },
  {
   "cell_type": "markdown",
   "metadata": {},
   "source": [
    "- Every team member will provide equal contributions to the development of the project. This includes but is not limited to - writing text that explains the significance of each section, interpreting data in a concise manner, delivering well-written and clean code that analyzes and visualizes the group’s findings. \n",
    "- Zoom meetings will be held as needed as the project progresses, and every team member will attend to the best of their ability.\n",
    "- Should conflicts arise, the team member who is creating conflicts will be emailed about their situation, and be explicitly told what is required of him/her to resolve the conflict. If the team member does not cooperate, the professor will be notified. "
   ]
  },
  {
   "cell_type": "markdown",
   "metadata": {},
   "source": [
    "# Project Timeline Proposal"
   ]
  },
  {
   "cell_type": "markdown",
   "metadata": {},
   "source": [
    "| Meeting Date  | Meeting Time| Completed Before Meeting  | Discuss at Meeting |\n",
    "|---|---|---|---|\n",
    "| 10/23  | 2 PM | Each member finds a data topic + possible questions to use for project  | Discuss different data topics + settle on one. Finalize proposal as  a group | \n",
    "| 10/30  | 2 PM |  Look over data sets and incorporate it into the project (checkpoint #1); Convert income info data into usable dataset .csv | Work together on data cleaning and incorporating a usable format. Talk about steps for our methods section |\n",
    "| 11/18  | 2 PM | Collected data for analysis and cleaned into usable format | Analyze the data from previous meeting and provide results - finding outliers, relationships between variables, and the distributions that the variables take. |\n",
    "| 11/25 | 2 PM | Add any additional information in various sections (background, etc.), confirm with group first | Review project for submission, find grammatical errors and information mismatches. |\n",
    "| 12/4  | 2 PM | Consult with the TA | Meet up and look over everything one more time |"
   ]
  }
 ],
 "metadata": {
  "kernelspec": {
   "display_name": "Python 3 (ipykernel)",
   "language": "python",
   "name": "python3"
  },
  "language_info": {
   "codemirror_mode": {
    "name": "ipython",
    "version": 3
   },
   "file_extension": ".py",
   "mimetype": "text/x-python",
   "name": "python",
   "nbconvert_exporter": "python",
   "pygments_lexer": "ipython3",
   "version": "3.9.5"
  }
 },
 "nbformat": 4,
 "nbformat_minor": 2
}
